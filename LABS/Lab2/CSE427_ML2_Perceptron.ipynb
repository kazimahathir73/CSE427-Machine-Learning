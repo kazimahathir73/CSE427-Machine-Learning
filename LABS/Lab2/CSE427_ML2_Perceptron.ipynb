{
  "nbformat": 4,
  "nbformat_minor": 0,
  "metadata": {
    "colab": {
      "provenance": []
    },
    "kernelspec": {
      "name": "python3",
      "display_name": "Python 3"
    },
    "language_info": {
      "name": "python"
    }
  },
  "cells": [
    {
      "cell_type": "code",
      "execution_count": 20,
      "metadata": {
        "colab": {
          "base_uri": "https://localhost:8080/"
        },
        "id": "r-O9RENfp1Lf",
        "outputId": "95fbb593-5aff-406e-ea1e-d147f566bec3"
      },
      "outputs": [
        {
          "output_type": "stream",
          "name": "stdout",
          "text": [
            "[[ 166.22019987  370.46786094  546.64566887]\n",
            " [-110.67990166 -333.98630132  712.1687734 ]\n",
            " [-284.60563557 -168.36284066 -298.07249905]\n",
            " [-609.29828656  658.58283681  996.99285191]\n",
            " [  72.24121784   77.43774816 -413.19770113]\n",
            " [-643.81646329 -875.76275616  391.60114608]\n",
            " [-128.49330255  482.18113156   35.63427489]\n",
            " [ 621.84766894  -45.41723305 -339.8919505 ]\n",
            " [-443.83993766 -242.68865904  613.59455619]\n",
            " [ 594.05217756 -420.43172147  893.13480925]]\n",
            "[[-1]\n",
            " [ 1]\n",
            " [-1]\n",
            " [-1]\n",
            " [-1]\n",
            " [ 1]\n",
            " [-1]\n",
            " [ 1]\n",
            " [-1]\n",
            " [ 1]]\n"
          ]
        }
      ],
      "source": [
        "from numpy import random\n",
        "\n",
        "x = random.uniform(-1000,1001,size=(1000, 3))\n",
        "y = random.randint(2,size=(1000, 1))\n",
        "\n",
        "for i in range(0,1000):\n",
        "  y_i = (500*x[i][0])-(413*x[i][1])+(17*x[i][2])+203\n",
        "  if y_i >= 0:\n",
        "    y[i] = 1\n",
        "  else:\n",
        "    y[i] = -1\n",
        "\n",
        "print(x[:10])\n",
        "print(y[:10])"
      ]
    },
    {
      "cell_type": "code",
      "source": [
        "w1=0\n",
        "w2=0\n",
        "w3=0\n",
        "w4=0\n",
        "\n",
        "'''\n",
        "1. while loop will run untill it converge the minimum error\n",
        "2. for loop will be run 1000 (as dataset size) and each time it find the value mismatch it will update the weights\n",
        "3. if predicted value from weights and the actual value sign mismatch (value*y[i]), the weigths will be update formula (w = w + y_actual*x_i)\n",
        "4. it iterate 1000 times >>> each time find any mismatch that will update the weights >>> for loop closes >>> flag becomes False (flag=False) >>> run again for mimatch\n",
        "5. As the 1000 iteration will be done and no mismatch find that means there is no error... So no need to update the weights\n",
        "6. Then flag = True and by this the while close\n",
        "'''\n",
        "\n",
        "while (True):\n",
        "    for i in range(1000):\n",
        "      flag= True\n",
        "      y_predict = w1*x[i][0] + w2*x[i][1] + w3*x[i][2] + w4\n",
        "      if y_predict*y[i] <=0:\n",
        "        flag=False\n",
        "        w1 += y[i] * x[i][0]\n",
        "        w2 += y[i] * x[i][1]\n",
        "        w3 += y[i] * x[i][2]\n",
        "        w4 += y[i] * 1\n",
        "        break\n",
        "      else:\n",
        "        continue\n",
        "    if flag==True:\n",
        "      print(w1,w2,w3,w4)\n",
        "      break"
      ],
      "metadata": {
        "colab": {
          "base_uri": "https://localhost:8080/"
        },
        "id": "nDYUgAdLGic8",
        "outputId": "d6efd221-19a7-469e-e1cc-256f5de82bf6"
      },
      "execution_count": 21,
      "outputs": [
        {
          "output_type": "stream",
          "name": "stdout",
          "text": [
            "[7657.92938541] [-6326.15888832] [240.17512582] [-129]\n"
          ]
        }
      ]
    },
    {
      "cell_type": "code",
      "source": [
        "print(w1[0]/500)\n",
        "print(w2[0]/-413)\n",
        "print(w3[0]/17)\n",
        "print(w4[0])"
      ],
      "metadata": {
        "colab": {
          "base_uri": "https://localhost:8080/"
        },
        "id": "3EjYGgfPIOg-",
        "outputId": "480aad57-288d-47d3-a611-319c9aac6083"
      },
      "execution_count": 22,
      "outputs": [
        {
          "output_type": "stream",
          "name": "stdout",
          "text": [
            "15.31585877082361\n",
            "15.317576000772357\n",
            "14.12794857784356\n",
            "-129\n"
          ]
        }
      ]
    }
  ]
}